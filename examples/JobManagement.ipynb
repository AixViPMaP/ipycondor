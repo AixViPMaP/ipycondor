{
 "cells": [
  {
   "cell_type": "code",
   "execution_count": 2,
   "metadata": {},
   "outputs": [
    {
     "name": "stderr",
     "output_type": "stream",
     "text": [
      "[0]: Submitting job(s).\n",
      "1 job(s) submitted to cluster 1167.\n",
      " \n",
      "\n"
     ]
    }
   ],
   "source": [
    "%%CondorJob\n",
    "\n",
    "universe = vanilla\n",
    "executable           = /usr/bin/sleep\n",
    "\n",
    "transfer_executable     = false\n",
    "stream_output           = false\n",
    "stream_error            = false\n",
    "\n",
    "arguments =\" 60 \"\n",
    "\n",
    "queue"
   ]
  },
  {
   "cell_type": "code",
   "execution_count": null,
   "metadata": {},
   "outputs": [],
   "source": [
    "# Monitor jobs and machines\n",
    "%CondorMon"
   ]
  },
  {
   "cell_type": "code",
   "execution_count": null,
   "metadata": {},
   "outputs": [],
   "source": [
    "# Create a job table widget\n",
    "from  ipycondor import Condor\n",
    "ui=Condor()\n",
    "ui.job_table()"
   ]
  },
  {
   "cell_type": "code",
   "execution_count": null,
   "metadata": {},
   "outputs": [],
   "source": [
    "# Customizable job table\n",
    "ui.job_table( 'JobStartDate > {0}'.format( int(time.time())-3600*24), \n",
    "             ['JobStartDate','QDate','Owner','JobStatus','RemoteHost','DiskUsage']\n",
    ")"
   ]
  },
  {
   "cell_type": "code",
   "execution_count": 4,
   "metadata": {},
   "outputs": [],
   "source": [
    "from IPython.display import JSON\n",
    "import json,re\n",
    "from ipycondor.Condor import deep_parse"
   ]
  },
  {
   "cell_type": "code",
   "execution_count": 7,
   "metadata": {},
   "outputs": [
    {
     "data": {
      "application/json": {
       "CommittedSlotTime": 0,
       "CommittedSuspensionTime": 0,
       "CommittedTime": 0,
       "CompletionDate": null,
       "CumulativeSlotTime": 0,
       "CumulativeSuspensionTime": 0,
       "JobCurrentStartDate": "2019-02-02 16:39:15",
       "JobStartDate": "2019-02-02 16:39:15",
       "LastMatchTime": "2019-02-02 16:39:15",
       "LastSuspensionTime": 0,
       "QDate": "2019-02-02 16:39:30",
       "RemoteWallClockTime": 0,
       "ServerTime": "2019-02-02 16:49:30"
      },
      "text/plain": [
       "<IPython.core.display.JSON object>"
      ]
     },
     "execution_count": 7,
     "metadata": {
      "application/json": {
       "expanded": false
      }
     },
     "output_type": "execute_result"
    }
   ],
   "source": [
    "# Use job table as a plain python object\n",
    "JSON({k:v for k,v in deep_parse(ui.jobs())[0].items() if re.match('\\w*(Date|Time)\\w*',k)})"
   ]
  },
  {
   "cell_type": "code",
   "execution_count": null,
   "metadata": {},
   "outputs": [],
   "source": []
  }
 ],
 "metadata": {
  "kernelspec": {
   "display_name": "Python 3",
   "language": "python",
   "name": "python3"
  },
  "language_info": {
   "codemirror_mode": {
    "name": "ipython",
    "version": 3
   },
   "file_extension": ".py",
   "mimetype": "text/x-python",
   "name": "python",
   "nbconvert_exporter": "python",
   "pygments_lexer": "ipython3",
   "version": "3.6.6"
  }
 },
 "nbformat": 4,
 "nbformat_minor": 2
}
