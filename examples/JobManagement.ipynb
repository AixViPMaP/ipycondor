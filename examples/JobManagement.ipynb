{
 "cells": [
  {
   "cell_type": "code",
   "execution_count": null,
   "metadata": {},
   "outputs": [],
   "source": [
    "from  ipycondor import Condor\n",
    "ui=Condor()\n",
    "ui.job_table()"
   ]
  },
  {
   "cell_type": "code",
   "execution_count": null,
   "metadata": {},
   "outputs": [],
   "source": [
    "import time\n",
    "ui.job_table(\n",
    "    q='JobStartDate > {0}'.format( int(time.time())-3600*24), \n",
    "    cols=['JobStartDate','QDate','Owner','JobStatus','RemoteHost','DiskUsage']\n",
    ")"
   ]
  },
  {
   "cell_type": "code",
   "execution_count": null,
   "metadata": {},
   "outputs": [],
   "source": [
    "%%CondorJob\n",
    "\n",
    "universe = vanilla\n",
    "executable           = /bin/bash \n",
    "\n",
    "transfer_executable     = true\n",
    "stream_output           = true\n",
    "stream_error            = true\n",
    "\n",
    "arguments =\" -c date \"\n",
    "\n",
    "queue"
   ]
  }
 ],
 "metadata": {
  "kernelspec": {
   "display_name": "Python 3",
   "language": "python",
   "name": "python3"
  },
  "language_info": {
   "codemirror_mode": {
    "name": "ipython",
    "version": 3
   },
   "file_extension": ".py",
   "mimetype": "text/x-python",
   "name": "python",
   "nbconvert_exporter": "python",
   "pygments_lexer": "ipython3",
   "version": "3.6.6"
  }
 },
 "nbformat": 4,
 "nbformat_minor": 2
}
